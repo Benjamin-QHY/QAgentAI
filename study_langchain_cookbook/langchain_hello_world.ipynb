{
 "cells": [
  {
   "cell_type": "markdown",
   "metadata": {},
   "source": [
    "#LangChain Hello World\n",
    "\n",
    "LangChain第一个入门编程实例，让你对LangChain连接LLM编程有一个初步的了解，在该示例中使用的是与OpenAI进行连接，分别使用LangChain的LLM直接调用、prompts提示词使用、agent代理使用。"
   ]
  },
  {
   "cell_type": "code",
   "execution_count": null,
   "metadata": {},
   "outputs": [],
   "source": [
    "##导入必要的包，后续根据实际需要导入对应的包"
   ]
  },
  {
   "cell_type": "code",
   "execution_count": null,
   "metadata": {},
   "outputs": [],
   "source": [
    "import os\n",
    "import openai"
   ]
  },
  {
   "cell_type": "markdown",
   "metadata": {},
   "source": [
    "##OPENAI_API_KEY的配置建议\n",
    "\n",
    "###1、 配置在环境变量中\n",
    "推荐使用这种方式，将你的API_KEY配置在环境变量中，这样即使你的代码泄露，也不会泄露你的API_KEY，而且可以避免因代码公开而泄露AIP_KEY。\n",
    "这种方式的配置可以查看我的公众号文章《在Windows、macOS和Linux中如何设置OpenAI API密钥环境变量》，网址：https://mp.weixin.qq.com/s/okEF493sNc7YGo2NqXCbuQ\n",
    "\n",
    "###2、 配置在数据库中\n",
    "同样推荐这种方式，这种方式一般在服务器上存在多个不同的API_KEY，每个API_KEY对应一个不同的账户。\n",
    "\n",
    "###3、 直接在代码中配置\n",
    "这一种方式一般不建议这么操作，因为会暴露你的API_KEY，一旦泄露，后果不堪设想。"
   ]
  },
  {
   "cell_type": "code",
   "execution_count": null,
   "metadata": {},
   "outputs": [],
   "source": [
    "# 如果你没有在操作系统的环境变量里设置OPENAI_API_KEY\n",
    "# 可以在如下代码中通过openai_api_key传入密钥\n",
    "\n",
    "# from langchain.llms import OpenAI\n",
    "# llm = OpenAI(openai_api_key=\"...\")"
   ]
  },
  {
   "cell_type": "markdown",
   "metadata": {},
   "source": [
    "##LLM\n",
    "\n",
    "##temperature参数解释\n",
    "temperature是GPT模型的温度，即随机性，用于控制生成文本的多样性和创造力。温度越高，生成的文本越多样化，但也可能会导致生成的文本不太准确或不连贯。温度越低，生成的文本则越接近训练数据，但也可能会导致生成的文本过于保守和重复。\n",
    "如果设置为0，则每次返回的答案都一样。\n",
    "详细的可以看一下吴恩达OPENAI《ChatGPT 提示工程》对应的。"
   ]
  },
  {
   "cell_type": "code",
   "execution_count": null,
   "metadata": {},
   "outputs": [],
   "source": [
    "from langchain.llms import OpenAI\n",
    "# 最简单的与LLM进行交互\n",
    "llm=OpenAI(temperature=0)\n",
    "text=\"描述一个外星人。\"\n",
    "print(llm(text))"
   ]
  },
  {
   "cell_type": "markdown",
   "metadata": {},
   "source": [
    "##Prompts\n",
    "在做AI应用开发的时候，经常会由用户输入的问题或者关键词，AI应用结合已经写好的提示词来生成答案，以达到更好的问答效果。"
   ]
  },
  {
   "cell_type": "code",
   "execution_count": null,
   "metadata": {},
   "outputs": [],
   "source": [
    "from langchain.llms import OpenAI\n",
    "from langchain.prompts import PromptTemplate\n",
    "\n",
    "#使用PromptTemplate与LLM进行交互\n",
    "llm=OpenAI(temperature=0.9)\n",
    "prompt=PromptTemplate(input_variables=[\"contry\",\"city\"],\n",
    "                      template=\"请列出人们最喜欢去的旅游3个{contry}{city}的景点，只列出景点名称就可以。\")\n",
    "print(prompt.format(contry=\"中国\",city=\"北京市\"))\n",
    "print(llm(prompt.format(contry=\"中国\",city=\"北京市\")))"
   ]
  },
  {
   "cell_type": "markdown",
   "metadata": {},
   "source": [
    "##Chain\n"
   ]
  },
  {
   "cell_type": "code",
   "execution_count": null,
   "metadata": {},
   "outputs": [],
   "source": [
    "from langchain.llms import OpenAI\n",
    "from langchain.prompts import PromptTemplate\n",
    "from langchain.chains import LLMChain\n",
    "\n",
    "llm=OpenAI(temperature=0.9)\n",
    "prompt=PromptTemplate(input_variables=[\"contry\",\"city\"],\n",
    "                      template=\"请列出人们最喜欢去的旅游3个{contry}{city}景点，只列出景点名称就可以。\")\n",
    "chain=LLMChain(llm=llm,prompt=prompt)\n",
    "print(chain.run({\"contry\":\"中国\",\"city\":\"北京市\"}))"
   ]
  },
  {
   "cell_type": "markdown",
   "metadata": {},
   "source": [
    "##Agent\n"
   ]
  },
  {
   "cell_type": "code",
   "execution_count": null,
   "metadata": {},
   "outputs": [],
   "source": []
  }
 ],
 "metadata": {
  "kernelspec": {
   "display_name": "Python 3 (ipykernel)",
   "language": "python",
   "name": "python3"
  },
  "language_info": {
   "codemirror_mode": {
    "name": "ipython",
    "version": 3
   },
   "file_extension": ".py",
   "mimetype": "text/x-python",
   "name": "python",
   "nbconvert_exporter": "python",
   "pygments_lexer": "ipython3",
   "version": "3.11.4"
  }
 },
 "nbformat": 4,
 "nbformat_minor": 2
}
